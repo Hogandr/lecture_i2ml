{
 "cells": [
  {
   "cell_type": "markdown",
   "metadata": {},
   "source": [
    "## Code demo for Nested Resampling\n",
    "In this code demo we\n",
    "- compare resampling and nested resampling,\n",
    "- see how we can tune hyperparemeters,\n",
    "- learn how to evaluate the generalization error in this scheme.\n",
    "\n",
    "## Setup\n",
    "Firstly we generate stairs-like data:"
   ]
  },
  {
   "cell_type": "code",
   "execution_count": 6,
   "metadata": {},
   "outputs": [],
   "source": [
    "import pandas as pd\n",
    "import numpy as np\n",
    "import random"
   ]
  },
  {
   "cell_type": "code",
   "execution_count": 13,
   "metadata": {},
   "outputs": [],
   "source": [
    "n=100\n",
    "steps=5\n",
    "\n",
    "np.random.uniform(low=0,high=1/steps, size=2*n)\n",
    "num_blocks = int(steps * (steps - 1) / 2)\n",
    "block = np.random.choice(range(1,num_blocks),size=n,replace=True)\n",
    "\n",
    "n_block = 1\n",
    "for i in range(steps):\n",
    "    for j in range(i):\n",
    "        "
   ]
  },
  {
   "cell_type": "code",
   "execution_count": 14,
   "metadata": {},
   "outputs": [
    {
     "data": {
      "text/plain": [
       "array([2, 4, 2, 5, 2, 3, 6, 6, 5, 4, 8, 7, 7, 3, 8, 6, 4, 5, 6, 5, 9, 9,\n",
       "       2, 8, 1, 2, 1, 8, 9, 5, 8, 4, 4, 8, 7, 4, 9, 4, 1, 3, 7, 5, 7, 7,\n",
       "       9, 6, 4, 6, 6, 2, 8, 7, 4, 6, 8, 4, 2, 8, 1, 5, 1, 5, 8, 2, 1, 8,\n",
       "       6, 5, 5, 5, 2, 2, 2, 1, 4, 6, 7, 8, 4, 7, 4, 6, 2, 9, 4, 3, 9, 7,\n",
       "       8, 7, 4, 1, 5, 3, 2, 3, 7, 1, 3, 4])"
      ]
     },
     "execution_count": 14,
     "metadata": {},
     "output_type": "execute_result"
    }
   ],
   "source": [
    "block"
   ]
  },
  {
   "cell_type": "code",
   "execution_count": null,
   "metadata": {},
   "outputs": [],
   "source": [
    "def stairs(n,steps):\n",
    "    np.ra"
   ]
  }
 ],
 "metadata": {
  "kernelspec": {
   "display_name": "Python 3",
   "language": "python",
   "name": "python3"
  },
  "language_info": {
   "codemirror_mode": {
    "name": "ipython",
    "version": 3
   },
   "file_extension": ".py",
   "mimetype": "text/x-python",
   "name": "python",
   "nbconvert_exporter": "python",
   "pygments_lexer": "ipython3",
   "version": "3.7.9"
  }
 },
 "nbformat": 4,
 "nbformat_minor": 4
}
